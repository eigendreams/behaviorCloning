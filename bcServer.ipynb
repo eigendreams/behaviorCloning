{
 "cells": [
  {
   "cell_type": "code",
   "execution_count": 1,
   "metadata": {
    "collapsed": false
   },
   "outputs": [
    {
     "name": "stderr",
     "output_type": "stream",
     "text": [
      "Using TensorFlow backend.\n"
     ]
    }
   ],
   "source": [
    "import argparse\n",
    "import base64\n",
    "import json\n",
    "\n",
    "import numpy as np\n",
    "import socketio\n",
    "import eventlet\n",
    "import eventlet.wsgi\n",
    "import time\n",
    "from PIL import Image\n",
    "from PIL import ImageOps\n",
    "from flask import Flask, render_template\n",
    "from io import BytesIO\n",
    "\n",
    "import cv2\n",
    "\n",
    "from keras.models import load_model\n",
    "from keras.models import model_from_json\n",
    "from keras.preprocessing.image import ImageDataGenerator, array_to_img, img_to_array"
   ]
  },
  {
   "cell_type": "code",
   "execution_count": 2,
   "metadata": {
    "collapsed": true
   },
   "outputs": [],
   "source": [
    "import matplotlib.pyplot as plt\n",
    "import matplotlib.image as mpimg\n",
    "\n",
    "scale_factor = 4\n",
    "\n",
    "def normalize_channel(image_data):\n",
    "    x_min = np.min(image_data)\n",
    "    x_max = np.max(image_data)\n",
    "    # Non extreme values are useful to avoid saturation for some act funcs\n",
    "    a     = -0.5\n",
    "    b     =  0.5\n",
    "    return a + np.divide( (image_data - x_min ) * ( b - a), x_max - x_min) \n",
    "\n",
    "def preprocess_image(img):\n",
    "    return normalize_channel(img) \n",
    "\n"
   ]
  },
  {
   "cell_type": "code",
   "execution_count": 3,
   "metadata": {
    "collapsed": false
   },
   "outputs": [],
   "source": [
    "sio = socketio.Server()\n",
    "app = Flask(__name__)\n",
    "model = load_model('modelSingle.h5')\n",
    "prev_image_array = None"
   ]
  },
  {
   "cell_type": "code",
   "execution_count": 4,
   "metadata": {
    "collapsed": false
   },
   "outputs": [
    {
     "name": "stdout",
     "output_type": "stream",
     "text": [
      "Saved model to disk\n"
     ]
    }
   ],
   "source": [
    "\"\"\"\n",
    "Save single model as JSON and h5\n",
    "\"\"\"\n",
    "# serialize model to JSON\n",
    "model_json = model.to_json()\n",
    "with open(\"model.json\", \"w\") as json_file:\n",
    "    json_file.write(model_json)\n",
    "# serialize weights to HDF5\n",
    "model.save_weights(\"model.h5\")\n",
    "print(\"Saved model to disk\")"
   ]
  },
  {
   "cell_type": "code",
   "execution_count": null,
   "metadata": {
    "collapsed": true
   },
   "outputs": [],
   "source": [
    "@sio.on('telemetry')\n",
    "def telemetry(sid, data):\n",
    "    # The current steering angle of the car\n",
    "    steering_angle = data[\"steering_angle\"]\n",
    "    # The current throttle of the car\n",
    "    throttle = data[\"throttle\"]\n",
    "    # The current speed of the car\n",
    "    speed = data[\"speed\"]\n",
    "    # The current image from the center camera of the car\n",
    "    imgString = data[\"image\"]\n",
    "    image = Image.open(BytesIO(base64.b64decode(imgString)))\n",
    "    image_array = np.asarray(image)[60:140,:,:]\n",
    "    image_center = cv2.resize(image_array, (0,0), fx=1/scale_factor, fy=1/scale_factor )\n",
    "    #image_center = cv2.cvtColor(image_center, cv2.COLOR_RGB2YUV)\n",
    "    image_center = preprocess_image(image_center)\n",
    "    transformed_image_array = image_center.reshape(( 1, image_center.shape[0], image_center.shape[1], 3))\n",
    "    \n",
    "    # This model currently assumes that the features of the model are just the images. Feel free to change this.\n",
    "    steering_angle = float(model.predict(transformed_image_array, batch_size=1))\n",
    "    # The driving model currently just outputs a constant throttle. Feel free to edit this.\n",
    "    throttle = 0.2\n",
    "    print(steering_angle, throttle)\n",
    "    send_control(steering_angle, throttle)\n",
    "\n",
    "\n",
    "@sio.on('connect')\n",
    "def connect(sid, environ):\n",
    "    print(\"connect \", sid)\n",
    "    send_control(0, 0)\n",
    "\n",
    "\n",
    "def send_control(steering_angle, throttle):\n",
    "    sio.emit(\"steer\", data={\n",
    "    'steering_angle': steering_angle.__str__(),\n",
    "    'throttle': throttle.__str__()\n",
    "    }, skip_sid=True)"
   ]
  },
  {
   "cell_type": "code",
   "execution_count": null,
   "metadata": {
    "collapsed": false
   },
   "outputs": [
    {
     "name": "stderr",
     "output_type": "stream",
     "text": [
      "(14936) wsgi starting up on http://0.0.0.0:4567\n"
     ]
    }
   ],
   "source": [
    "#parser = argparse.ArgumentParser(description='Remote Driving')\n",
    "#parser.add_argument('model', type=str,\n",
    "#help='Path to model definition json. Model weights should be on the same path.')\n",
    "#args = parser.parse_args()\n",
    "#with open(args.model, 'r') as jfile:\n",
    "#    model = model_from_json(json.load(jfile))\n",
    "#\n",
    "#model.compile(\"adam\", \"mse\")\n",
    "#weights_file = args.model.replace('json', 'h5')\n",
    "#model.load_weights(weights_file)\n",
    "\n",
    "# wrap Flask application with engineio's middleware\n",
    "app = socketio.Middleware(sio, app)\n",
    "\n",
    "# deploy as an eventlet WSGI server\n",
    "eventlet.wsgi.server(eventlet.listen(('', 4567)), app)"
   ]
  }
 ],
 "metadata": {
  "anaconda-cloud": {},
  "kernelspec": {
   "display_name": "Python [default]",
   "language": "python",
   "name": "python3"
  },
  "language_info": {
   "codemirror_mode": {
    "name": "ipython",
    "version": 3
   },
   "file_extension": ".py",
   "mimetype": "text/x-python",
   "name": "python",
   "nbconvert_exporter": "python",
   "pygments_lexer": "ipython3",
   "version": "3.5.2"
  }
 },
 "nbformat": 4,
 "nbformat_minor": 1
}
